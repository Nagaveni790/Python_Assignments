{
 "cells": [
  {
   "cell_type": "markdown",
   "id": "570df29b",
   "metadata": {},
   "source": [
    "Q1. What is the role of the 'else' block in a try-except statement? Provide an example scenario where it would be useful.\n",
    "\n",
    "Answer:-->\n",
    "        In a try-except statement, the else block is an optional part that comes after the try block and before any finally block (if present). The purpose of the else block is to specify a block of code that should be executed if no exceptions are raised within the try block.\n",
    "        \n",
    "   **Here's the basic structure of a try-except-else statement:\n",
    "   \n",
    "   try:\n",
    "    # Code that might raise an exception\n",
    "   except SomeException:\n",
    "    # Code to handle the exception\n",
    "   else:\n",
    "    # Code to execute if no exceptions occurred\n",
    "   finally:\n",
    "    # Optional code to run regardless of whether an exception occurred"
   ]
  },
  {
   "cell_type": "code",
   "execution_count": 1,
   "id": "9f408057",
   "metadata": {},
   "outputs": [
    {
     "name": "stdout",
     "output_type": "stream",
     "text": [
      "The result of 10 / 2 is 5.0\n",
      "Error: Division by zero!\n"
     ]
    }
   ],
   "source": [
    "#Example:\n",
    "def divide_numbers(a, b):\n",
    "    try:\n",
    "        result = a / b\n",
    "    except ZeroDivisionError:\n",
    "        print(\"Error: Division by zero!\")\n",
    "    else:\n",
    "        print(f\"The result of {a} / {b} is {result}\")\n",
    "\n",
    "# Example usages\n",
    "divide_numbers(10, 2)  \n",
    "divide_numbers(8, 0)   \n"
   ]
  },
  {
   "cell_type": "markdown",
   "id": "1a2da000",
   "metadata": {},
   "source": [
    "The else block can be useful for separating the logic of handling exceptions from the logic that should execute only when no exceptions occur. It can help make the code more organized and improve readability."
   ]
  },
  {
   "cell_type": "markdown",
   "id": "885fcc49",
   "metadata": {},
   "source": [
    "Q2.Can a try-except block be nested inside another try-except block? Explain with an example.\n",
    "\n",
    "Answer:-->\n",
    "        \n",
    "       Yes, a try-except block can definitely be nested inside another try-except block. This is known as nested exception handling and is a common technique used in programming to handle different levels of errors and exceptions in a more granular way. Each nested try-except block can handle specific types of exceptions, allowing for more precise error handling and recovery strategies.\n",
    "       \n",
    "       \n",
    "   This nested structure allows you to handle different types of errors at different levels of the program, providing better control and clarity over error-handling logic.\n",
    "\n",
    "Remember that while nested exception handling can be helpful, excessive nesting can make code harder to read and understand. It's important to strike a balance between granularity of error handling and keeping the code clean and maintainable."
   ]
  },
  {
   "cell_type": "code",
   "execution_count": 3,
   "id": "c02fc7ad",
   "metadata": {},
   "outputs": [
    {
     "name": "stdout",
     "output_type": "stream",
     "text": [
      "Enter an outer number: 8\n",
      "Enter an inner number: 4\n",
      "Inner Result: 2.0\n",
      "Outer Result: 8\n"
     ]
    }
   ],
   "source": [
    "#Example:\n",
    "def nested_exception_example():\n",
    "    try:\n",
    "        outer_number = int(input(\"Enter an outer number: \"))\n",
    "        try:\n",
    "            inner_number = int(input(\"Enter an inner number: \"))\n",
    "            result = outer_number / inner_number\n",
    "        except ZeroDivisionError:\n",
    "            print(\"Inner Error: Division by zero!\")\n",
    "        except ValueError:\n",
    "            print(\"Inner Error: Invalid input for inner number.\")\n",
    "        else:\n",
    "            print(f\"Inner Result: {result}\")\n",
    "    except ValueError:\n",
    "        print(\"Outer Error: Invalid input for outer number.\")\n",
    "    except Exception as e:\n",
    "        print(f\"Outer Error: An exception occurred: {e}\")\n",
    "    else:\n",
    "        print(f\"Outer Result: {outer_number}\")\n",
    "\n",
    "nested_exception_example()\n",
    "\n",
    "\n",
    "#In this example, we have a function nested_exception_example() that takes user input for two numbers, \n",
    "#outer_number and inner_number, and attempts to perform division operations within nested try-except blocks.\n"
   ]
  },
  {
   "cell_type": "markdown",
   "id": "de335532",
   "metadata": {},
   "source": [
    "Q3.How can you create a custom exception class in Python? Provide an example that demonstrates its usage.\n",
    "\n",
    "Answer:-->\n",
    "    In Python, you can create a custom exception class by defining a new class that inherits from the built-in Exception class\n",
    "    or any of its subclasses. This allows you to create more specific exception types tailored to your application's needs. \n",
    "    Custom exception classes can provide clearer error messages and help in distinguishing different types of errors.\n",
    "    \n",
    "    \n",
    "   Custom exception classes are especially useful when you want to handle specific scenarios in a more informative and controlled manner. They allow you to define your own error hierarchy and provide better context to users when errors occur."
   ]
  },
  {
   "cell_type": "code",
   "execution_count": 2,
   "id": "07d4f280",
   "metadata": {},
   "outputs": [
    {
     "name": "stdout",
     "output_type": "stream",
     "text": [
      "Enter a positive number: -5\n",
      "Custom error caught: Value cannot be negative\n",
      "End of program\n"
     ]
    }
   ],
   "source": [
    "#Example:\n",
    "class MyCustomError(Exception):\n",
    "    \"\"\"Custom exception class.\"\"\"\n",
    "    def __init__(self, message):\n",
    "        self.message = message\n",
    "        super().__init__(self.message)\n",
    "\n",
    "def custom_function(value):\n",
    "    if value < 0:\n",
    "        raise MyCustomError(\"Value cannot be negative\")\n",
    "\n",
    "try:\n",
    "    num = int(input(\"Enter a positive number: \"))\n",
    "    custom_function(num)\n",
    "except ValueError:\n",
    "    print(\"Invalid input: Please enter a valid number\")\n",
    "except MyCustomError as e:\n",
    "    print(f\"Custom error caught: {e}\")\n",
    "else:\n",
    "    print(\"No errors occurred\")\n",
    "finally:\n",
    "    print(\"End of program\")\n"
   ]
  },
  {
   "cell_type": "markdown",
   "id": "85088f25",
   "metadata": {},
   "source": [
    "In the above example, we define a custom exception class MyCustomError that inherits from the Exception class. We also provide a constructor __init__ to initialize the exception with a custom error message. When an instance of this exception is raised, the provided message will be displayed when catching the exception.\n",
    "\n"
   ]
  },
  {
   "cell_type": "markdown",
   "id": "71391b89",
   "metadata": {},
   "source": [
    "Q4.What are some common exceptions that are built-in to Python?\n",
    "\n",
    "Answer:-->\n",
    "    Python provides a variety of built-in exceptions that cover a wide range of possible errors that can occur during program execution. Some common built-in exceptions include:\n",
    "\n",
    "1.SyntaxError: Raised when there is a syntax error in the code.\n",
    "\n",
    "2.IndentationError: A subclass of SyntaxError, raised when there are indentation-related errors in the code.\n",
    "\n",
    "3.NameError: Raised when a local or global name is not found.\n",
    "\n",
    "4.TypeError: Raised when an operation or function is applied to an object of inappropriate type.\n",
    "\n",
    "5.ValueError: Raised when an operation or function receives an argument of the correct type but with an invalid value.\n",
    "\n",
    "6.KeyError: Raised when a dictionary is accessed with a key that doesn't exist.\n",
    "\n",
    "7.IndexError: Raised when a sequence is indexed with an index that is out of range.\n",
    "\n",
    "8.FileNotFoundError: Raised when trying to open a file that does not exist.\n",
    "\n",
    "9.IOError: Raised when an I/O operation fails.\n",
    "\n",
    "10.ZeroDivisionError: Raised when division or modulo by zero is attempted.\n",
    "\n",
    "11.AttributeError: Raised when an attribute reference or assignment fails.\n",
    "\n",
    "12.ImportError: Raised when an imported module is not found.\n",
    "\n",
    "13.RuntimeError: A generic error raised when no other exception applies.\n",
    "\n",
    "14.Exception: The base class for all built-in exceptions.\n",
    "\n",
    "15.MemoryError: Raised when an operation runs out of memory.\n",
    "\n",
    "16.OverflowError: Raised when an arithmetic operation exceeds the limits of the data type.\n",
    "\n",
    "17.RecursionError: Raised when the maximum recursion depth is exceeded.\n",
    "\n",
    "18.StopIteration: Raised to signal the end of an iterator."
   ]
  },
  {
   "cell_type": "markdown",
   "id": "34338f70",
   "metadata": {},
   "source": [
    "\n",
    "\n",
    "\n",
    "\n",
    "Q5.What is logging in Python, and why is it important in software development?\n",
    "\n",
    "Answer:-->\n",
    "    \n",
    "Logging in Python refers to the practice of recording events, messages, and other relevant information during the execution of a program. The built-in logging module in Python provides a flexible framework for generating log messages that can be saved to various destinations such as the console, files, or external logging services.\n",
    "\n",
    "**Logging is important in software development for several reasons:\n",
    "\n",
    "1.Debugging and Troubleshooting: During development and testing, logging helps developers identify issues and bugs by providing insights into the flow of execution, variable values, and the occurrence of specific events. When a problem arises, detailed logs can aid in pinpointing the source of the issue.\n",
    "\n",
    "2.Error Tracking: Logging allows developers to catch and track errors in a systematic manner. By recording error messages and their contexts, it becomes easier to diagnose and fix problems across different environments and deployments.\n",
    "\n",
    "3.Application Monitoring: In production environments, logging is crucial for monitoring the health and performance of applications. By analyzing logs, developers and operations teams can detect anomalies, bottlenecks, and potential security breaches.\n",
    "\n",
    "4.Auditing and Compliance: Many applications require compliance with specific standards or regulations. Logging can be used to record user activities, system interactions, and important events, helping to maintain a reliable audit trail.\n",
    "\n",
    "5.Code Optimization: By analyzing log data, developers can identify areas of the code that are causing performance issues, allowing for targeted optimizations.\n",
    "\n",
    "6.Documentation and Communication: Logs serve as a form of documentation that captures the behavior of the application at different stages. They can help teams communicate and share information about the application's behavior.\n",
    "\n",
    "7.Remote Diagnosis: In cases where an application is deployed in a remote or inaccessible environment, logs can be essential for diagnosing problems without direct access to the system.\n",
    "\n",
    "8.Alerts and Notifications: Logs can be used to trigger alerts or notifications when specific events or conditions occur, allowing developers to respond quickly to critical situations.\n",
    "\n",
    "The Python logging module provides various log levels (such as DEBUG, INFO, WARNING, ERROR, CRITICAL) to indicate the severity of messages. Developers can configure the logging behavior, including the formatting of log messages and their destinations. By using a consistent and structured logging approach, developers can create a valuable tool for understanding their code's behavior, diagnosing issues, and maintaining the application over time.\n",
    "\n",
    "\n",
    "\n",
    "\n",
    "\n"
   ]
  },
  {
   "cell_type": "markdown",
   "id": "877a8faa",
   "metadata": {},
   "source": [
    "Q6.Explain the purpose of log levels in Python logging and provide examples of when each log level would be appropriate.\n",
    "\n",
    "Answer:-->\n",
    "    Log levels in Python logging are used to categorize the severity of log messages. They allow developers to control which \n",
    "    messages are displayed or recorded based on their importance.\n",
    "    \n",
    "   **The logging module provides five standard log levels, each serving a specific purpose:\n",
    "   \n",
    "  1.DEBUG: This is the lowest log level and is used for detailed messages that are primarily useful for debugging and \n",
    "          development. These messages provide insight into the internal workings of the program."
   ]
  },
  {
   "cell_type": "code",
   "execution_count": 5,
   "id": "a926b19c",
   "metadata": {},
   "outputs": [
    {
     "ename": "NameError",
     "evalue": "name 'some_variable' is not defined",
     "output_type": "error",
     "traceback": [
      "\u001b[1;31m---------------------------------------------------------------------------\u001b[0m",
      "\u001b[1;31mNameError\u001b[0m                                 Traceback (most recent call last)",
      "Input \u001b[1;32mIn [5]\u001b[0m, in \u001b[0;36m<cell line: 5>\u001b[1;34m()\u001b[0m\n\u001b[0;32m      2\u001b[0m \u001b[38;5;28;01mimport\u001b[39;00m \u001b[38;5;21;01mlogging\u001b[39;00m\n\u001b[0;32m      4\u001b[0m logging\u001b[38;5;241m.\u001b[39mbasicConfig(level\u001b[38;5;241m=\u001b[39mlogging\u001b[38;5;241m.\u001b[39mDEBUG)\n\u001b[1;32m----> 5\u001b[0m logging\u001b[38;5;241m.\u001b[39mdebug(\u001b[38;5;124m\"\u001b[39m\u001b[38;5;124mDebugging message: \u001b[39m\u001b[38;5;132;01m%s\u001b[39;00m\u001b[38;5;124m\"\u001b[39m, \u001b[43msome_variable\u001b[49m)\n",
      "\u001b[1;31mNameError\u001b[0m: name 'some_variable' is not defined"
     ]
    }
   ],
   "source": [
    "#Example:\n",
    "import logging\n",
    "\n",
    "logging.basicConfig(level=logging.DEBUG)\n",
    "logging.debug(\"Debugging message: %s\", some_variable)\n"
   ]
  },
  {
   "cell_type": "markdown",
   "id": "30ea239e",
   "metadata": {},
   "source": [
    "2.INFO: INFO messages provide general information about the program's execution.They are used to convey important events or\n",
    "        milestones."
   ]
  },
  {
   "cell_type": "code",
   "execution_count": 6,
   "id": "2bbe9e6d",
   "metadata": {},
   "outputs": [
    {
     "name": "stderr",
     "output_type": "stream",
     "text": [
      "INFO:root:Application started\n"
     ]
    }
   ],
   "source": [
    "#Example:\n",
    "import logging\n",
    "\n",
    "logging.basicConfig(level=logging.INFO)\n",
    "logging.info(\"Application started\")\n"
   ]
  },
  {
   "cell_type": "markdown",
   "id": "a2bd1db5",
   "metadata": {},
   "source": [
    "3.WARNING: These messages indicate potential issues or situations that might lead to problems. While they don't necessarily  \n",
    "            prevent the program from running, they serve as early indicators of issues that might need attention."
   ]
  },
  {
   "cell_type": "code",
   "execution_count": 7,
   "id": "95598826",
   "metadata": {},
   "outputs": [
    {
     "name": "stderr",
     "output_type": "stream",
     "text": [
      "WARNING:root:Resource utilization is high\n"
     ]
    }
   ],
   "source": [
    "#Example:\n",
    "import logging\n",
    "\n",
    "logging.basicConfig(level=logging.WARNING)\n",
    "logging.warning(\"Resource utilization is high\")\n"
   ]
  },
  {
   "cell_type": "markdown",
   "id": "5fdc950a",
   "metadata": {},
   "source": [
    "4.ERROR: ERROR messages indicate that something has gone wrong, and the program cannot proceed as expected. These messages \n",
    "        typically indicate issues that might require intervention or correction."
   ]
  },
  {
   "cell_type": "code",
   "execution_count": 8,
   "id": "446176e6",
   "metadata": {},
   "outputs": [
    {
     "ename": "NameError",
     "evalue": "name 'error_message' is not defined",
     "output_type": "error",
     "traceback": [
      "\u001b[1;31m---------------------------------------------------------------------------\u001b[0m",
      "\u001b[1;31mNameError\u001b[0m                                 Traceback (most recent call last)",
      "Input \u001b[1;32mIn [8]\u001b[0m, in \u001b[0;36m<cell line: 5>\u001b[1;34m()\u001b[0m\n\u001b[0;32m      2\u001b[0m \u001b[38;5;28;01mimport\u001b[39;00m \u001b[38;5;21;01mlogging\u001b[39;00m\n\u001b[0;32m      4\u001b[0m logging\u001b[38;5;241m.\u001b[39mbasicConfig(level\u001b[38;5;241m=\u001b[39mlogging\u001b[38;5;241m.\u001b[39mERROR)\n\u001b[1;32m----> 5\u001b[0m logging\u001b[38;5;241m.\u001b[39merror(\u001b[38;5;124m\"\u001b[39m\u001b[38;5;124mAn error occurred: \u001b[39m\u001b[38;5;132;01m%s\u001b[39;00m\u001b[38;5;124m\"\u001b[39m, \u001b[43merror_message\u001b[49m)\n",
      "\u001b[1;31mNameError\u001b[0m: name 'error_message' is not defined"
     ]
    }
   ],
   "source": [
    "#Example:\n",
    "import logging\n",
    "\n",
    "logging.basicConfig(level=logging.ERROR)\n",
    "logging.error(\"An error occurred: %s\", error_message)\n"
   ]
  },
  {
   "cell_type": "markdown",
   "id": "dc30f06d",
   "metadata": {},
   "source": [
    "5.CRITICAL: This is the highest log level and is used for critical errors that might lead to the program's termination.  \n",
    "            CRITICAL messages often indicate severe failures that require immediate attention."
   ]
  },
  {
   "cell_type": "code",
   "execution_count": 10,
   "id": "c3abc8be",
   "metadata": {},
   "outputs": [
    {
     "name": "stderr",
     "output_type": "stream",
     "text": [
      "CRITICAL:root:Critical error: System is shutting down\n"
     ]
    }
   ],
   "source": [
    "#Example:\n",
    "import logging\n",
    "\n",
    "logging.basicConfig(level=logging.CRITICAL)\n",
    "logging.critical(\"Critical error: System is shutting down\")\n",
    "\n"
   ]
  },
  {
   "cell_type": "markdown",
   "id": "6096f894",
   "metadata": {},
   "source": [
    "Q7.What are log formatters in Python logging, and how can you customise the log message format using formatters?\n",
    "\n",
    "Answer:-->\n",
    "    In Python logging, log formatters are used to define the structure and appearance of log messages. Formatters allow you to control how log messages are formatted and presented, including details like timestamps, log levels, module names, and the actual log message content. This can make your log output more readable, consistent, and tailored to your specific needs.\n",
    "\n",
    "The logging module provides a Formatter class that you can use to customize the log message format. You can attach a formatter to a logging handler, such as a FileHandler or a StreamHandler, to specify how log messages should be formatted before they are written to their designated destination."
   ]
  },
  {
   "cell_type": "code",
   "execution_count": 11,
   "id": "1e83805f",
   "metadata": {},
   "outputs": [
    {
     "name": "stderr",
     "output_type": "stream",
     "text": [
      "2023-08-17 12:54:38,990 - DEBUG - 34322308 - This is a debug message\n",
      "DEBUG:custom_logger:This is a debug message\n",
      "2023-08-17 12:54:38,994 - INFO - 34322308 - This is an info message\n",
      "INFO:custom_logger:This is an info message\n",
      "2023-08-17 12:54:38,997 - WARNING - 34322308 - This is a warning message\n",
      "WARNING:custom_logger:This is a warning message\n",
      "2023-08-17 12:54:39,000 - ERROR - 34322308 - This is an error message\n",
      "ERROR:custom_logger:This is an error message\n",
      "2023-08-17 12:54:39,004 - CRITICAL - 34322308 - This is a critical message\n",
      "CRITICAL:custom_logger:This is a critical message\n"
     ]
    }
   ],
   "source": [
    "#Example:\n",
    "import logging\n",
    "\n",
    "# Create a formatter with a custom format string\n",
    "formatter = logging.Formatter('%(asctime)s - %(levelname)s - %(module)s - %(message)s')\n",
    "\n",
    "# Create a handler and attach the formatter to it\n",
    "handler = logging.StreamHandler()\n",
    "handler.setFormatter(formatter)\n",
    "\n",
    "# Create a logger and add the handler to it\n",
    "logger = logging.getLogger('custom_logger')\n",
    "logger.addHandler(handler)\n",
    "logger.setLevel(logging.DEBUG)\n",
    "\n",
    "# Log some messages at different levels\n",
    "logger.debug('This is a debug message')\n",
    "logger.info('This is an info message')\n",
    "logger.warning('This is a warning message')\n",
    "logger.error('This is an error message')\n",
    "logger.critical('This is a critical message')\n"
   ]
  },
  {
   "cell_type": "markdown",
   "id": "14de0df3",
   "metadata": {},
   "source": [
    "\n",
    "\n",
    "\n",
    "Q8.How can you set up logging to capture log messages from multiple modules or classes in a Python application?\n",
    "\n",
    "Answer:-->\n",
    "  **To set up logging to capture log messages from multiple modules or classes in a Python application by following these \n",
    "     steps:\n",
    "    \n",
    "    \n",
    "   1.Import and Configure Logging in Each Module/Class:\n",
    "        In each module or class where you want to log messages, you need to import the logging module and configure a logger. \n",
    "        You typically create a logger object with a name that corresponds to the module or class name."
   ]
  },
  {
   "cell_type": "code",
   "execution_count": 1,
   "id": "650bb3c4",
   "metadata": {},
   "outputs": [],
   "source": [
    "#Example:\n",
    "import logging\n",
    "\n",
    "# Create a logger\n",
    "logger = logging.getLogger(__name__)\n",
    "\n"
   ]
  },
  {
   "cell_type": "markdown",
   "id": "3ac20eff",
   "metadata": {},
   "source": [
    "   2.Logging Usage:\n",
    "        In classes or modules, use the logger to log messages at different levels (e.g., debug(), info(), warning(), error(), \n",
    "        critical()). Here's how you might log messages from different classes:"
   ]
  },
  {
   "cell_type": "code",
   "execution_count": 4,
   "id": "e02f97b3",
   "metadata": {},
   "outputs": [],
   "source": [
    "#Example:\n",
    "class ClassA:\n",
    "    def __init__(self):\n",
    "        self.logger = logging.getLogger(__name__)\n",
    "\n",
    "    def do_something(self):\n",
    "        self.logger.debug(\"Debug message from ClassA\")\n",
    "\n",
    "class ClassB:\n",
    "    def __init__(self):\n",
    "        self.logger = logging.getLogger(__name__)\n",
    "\n",
    "    def do_something_else(self):\n",
    "        self.logger.info(\"Info message from ClassB\")\n",
    "        \n",
    "\n",
    "#3.Run the Application: \n",
    "logging.basicConfig(\n",
    "    level=logging.DEBUG,\n",
    "    format='%(asctime)s - %(name)s - %(levelname)s - %(message)s',\n",
    "    filename='app.log',  # Specify the desired log file name\n",
    "    filemode='w'\n",
    ")\n",
    "\n",
    "\n",
    "#This above code writes the log to app.log file"
   ]
  },
  {
   "cell_type": "markdown",
   "id": "fa271bd2",
   "metadata": {},
   "source": [
    "\n",
    "Q9.What is the difference between the logging and print statements in Python? When should you use logging over print statements in a real-world application?\n",
    "\n",
    "\n",
    "Answer:-->\n",
    "    Both logging and print statements are used for generating output in a Python application, but they serve different purposes and are suited for different scenarios.\n",
    "    \n",
    "   **Differences**:\n",
    "   \n",
    "   **The primary purpose of logging is to provide a way to record and manage information about the program's execution.It's \n",
    "      not just about displaying messages; \n",
    "      Whereas,\n",
    "          Print statements are primarily used for simple output to the console during development and debugging.\n",
    "          \n",
    "   **Logging supports multiple levels (DEBUG, INFO, WARNING, ERROR, CRITICAL), allowing you to control the verbosity of output.\n",
    "       Whereas,Print statements do not have different levels; all messages are treated the same.\n",
    "     \n",
    "     \n",
    "   **Logging is highly configurable. You can control the output format, destination (file, console, remote server), and level \n",
    "      of each log message individually or globally.\n",
    "      Whereas,\n",
    "        Print statements have limited configurability. You can only control the separator (end parameter) and use the file \n",
    "        parameter to redirect output to a file.\n",
    "          \n",
    "          \n",
    "   **Log messages can be directed to various handlers such as files, console, email, etc., making it useful for both debugging \n",
    "       and production environments. \n",
    "      Whereas,Print statements output directly to the console or file, with no additional options for handling or redirection.\n",
    "      \n",
    "   **Logging may have a slightly higher performance impact due to its configurability. Whereas,Print statements have a lower \n",
    "       performance impact as they are generally simpler and less configurable.\n",
    "       \n",
    "   **Logging is designed for debugging and provides a systematic way to trace the flow of an application.\n",
    "       Whereas,\n",
    "           Print statements are more suited for quick, ad-hoc debugging and might clutter the codebase if not removed later.\n",
    "           \n",
    "           \n",
    " Use logging over print statements in a real-world application for:\n",
    "   1.Structured Information:Logging provides multiple levels to differentiate between different types of messages,aiding in \n",
    "                              better debugging and troubleshooting.\n",
    "   \n",
    "   2.Configurability:Logging allows you to configure the output format and destination of output.\n",
    "   \n",
    "   3.Contextual Information:Logging automatically includes contextual information like timestamps,log names,and source.\n",
    "   \n",
    "   4.Centralized Management: Logging offers a centralized way to manage and capture application information.\n",
    "   \n",
    "   5.Seperation of concerns:Logging separates debugging and informational output from the main logic of the application.\n",
    "   \n",
    "   6.Performance Impact:While logging may have a slightly higher performance impact due to its configurability, its benefits in \n",
    "                           debugging, monitoring, and maintenance outweigh this impact.\n",
    "                           \n",
    "   7.Production Readiness:Logging is designed to be used in production environments, where quick ad-hoc debugging can be done.\n",
    "   \n",
    "        "
   ]
  },
  {
   "cell_type": "markdown",
   "id": "e2aaf139",
   "metadata": {},
   "source": [
    "\n",
    "\n",
    "Q10.Write a Python program that logs a message to a file named \"app.log\" with the following requirements:\n",
    "    ● The log message should be \"Hello, World!\"\n",
    "    ● The log level should be set to \"INFO.\"\n",
    "    ● The log file should append new log entries without overwriting previous ones.\n",
    "\n",
    "Answer:-->"
   ]
  },
  {
   "cell_type": "code",
   "execution_count": 5,
   "id": "d0e95b2b",
   "metadata": {},
   "outputs": [],
   "source": [
    "import logging\n",
    "\n",
    "# Configure logging to write to \"app.log\" file\n",
    "logging.basicConfig(\n",
    "    filename='app.log',\n",
    "    level=logging.INFO,\n",
    "    format='%(asctime)s - %(levelname)s - %(message)s',\n",
    ")\n",
    "\n",
    "# Log the message\n",
    "logging.info(\"Hello, World!\")\n"
   ]
  },
  {
   "cell_type": "markdown",
   "id": "89068a37",
   "metadata": {},
   "source": [
    "\n",
    "Q11. Create a Python program that logs an error message to the console and a file named \"errors.log\" if an exception occurs \n",
    "    during the program's execution. The error message should include the exception type and a timestamp."
   ]
  },
  {
   "cell_type": "code",
   "execution_count": 1,
   "id": "4b09a58b",
   "metadata": {},
   "outputs": [
    {
     "name": "stderr",
     "output_type": "stream",
     "text": [
      "2023-08-21 18:41:38,494 - ERROR - Exception: ZeroDivisionError - division by zero\n"
     ]
    },
    {
     "name": "stdout",
     "output_type": "stream",
     "text": [
      "Exception has occured\n"
     ]
    }
   ],
   "source": [
    "#Example:\n",
    "import logging\n",
    "\n",
    "# Configure logging to write to console and \"errors.log\" file\n",
    "logging.basicConfig(\n",
    "    level=logging.ERROR,\n",
    "    format='%(asctime)s - %(levelname)s - %(message)s',\n",
    "    handlers=[\n",
    "        logging.StreamHandler(),  # Output to console\n",
    "        logging.FileHandler('errors.log'),  # Output to file\n",
    "    ]\n",
    ")\n",
    "\n",
    "def divide(x, y):\n",
    "    try:\n",
    "        result = x / y\n",
    "        return result\n",
    "    except ZeroDivisionError as e:\n",
    "        logging.error(f\"Exception: {e.__class__.__name__} - {e}\")\n",
    "        raise\n",
    "\n",
    "if __name__ == \"__main__\":\n",
    "    try:\n",
    "        result = divide(10, 0)  # This will raise a ZeroDivisionError\n",
    "    except ZeroDivisionError:\n",
    "        print(\"Exception has occured\")"
   ]
  },
  {
   "cell_type": "code",
   "execution_count": null,
   "id": "7a13cd41",
   "metadata": {},
   "outputs": [],
   "source": []
  }
 ],
 "metadata": {
  "kernelspec": {
   "display_name": "Python 3 (ipykernel)",
   "language": "python",
   "name": "python3"
  },
  "language_info": {
   "codemirror_mode": {
    "name": "ipython",
    "version": 3
   },
   "file_extension": ".py",
   "mimetype": "text/x-python",
   "name": "python",
   "nbconvert_exporter": "python",
   "pygments_lexer": "ipython3",
   "version": "3.9.12"
  }
 },
 "nbformat": 4,
 "nbformat_minor": 5
}
