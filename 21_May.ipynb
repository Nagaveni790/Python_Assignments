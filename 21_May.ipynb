{
 "cells": [
  {
   "cell_type": "code",
   "execution_count": 3,
   "id": "4a832a12",
   "metadata": {},
   "outputs": [
    {
     "name": "stdout",
     "output_type": "stream",
     "text": [
      " First Variable is 5 and second variable is 2\n",
      "Addition : 5  +  2  =  7\n",
      "Subtraction: 5  -  2  =  3\n",
      "Division: 5  /  2  =  2.5\n",
      "Multiplication: 5  *  2  =  10\n"
     ]
    }
   ],
   "source": [
    "#Q.1. Create two int type variables, apply addition, subtraction, division and multiplications and store the results in variables. \n",
    "#Then print the data in the following format by calling the variables:\n",
    "#First variable is __ & second variable is __.\n",
    "#Addition: __ + __ = __\n",
    "#Subtraction: __ - __ = __\n",
    "#Multiplication: __ * __ = __\n",
    "#Division: __ / __ = __\n",
    "\n",
    "\n",
    "first_num = 5\n",
    "second_num = 2\n",
    "def add(first_num,second_num):\n",
    "    add = first_num + second_num\n",
    "    print(\"Addition :\", first_num, \" + \", second_num, \" = \", add)\n",
    "\n",
    "def subtract(first_num,second_num):\n",
    "    sub= first_num - second_num\n",
    "    print(\"Subtraction:\", first_num, \" - \", second_num, \" = \", sub)\n",
    "\n",
    "def div(first_num,second_num):\n",
    "    div = first_num / second_num\n",
    "    print(\"Division:\", first_num, \" / \", second_num, \" = \", div)\n",
    "\n",
    "def mult(first_num,second_num):\n",
    "    mult = first_num * second_num\n",
    "    print(\"Multiplication:\", first_num, \" * \", second_num, \" = \", mult)\n",
    "    \n",
    "print(f\" First Variable is {first_num} and second variable is {second_num}\")\n",
    "add(first_num,second_num)\n",
    "subtract(first_num,second_num)\n",
    "div(first_num,second_num)\n",
    "mult(first_num,second_num)\n",
    "\n",
    "\n",
    "    \n",
    "    \n",
    "    "
   ]
  },
  {
   "cell_type": "markdown",
   "id": "914fa600",
   "metadata": {},
   "source": [
    "Q.2. What is the difference between the following operators:\n",
    "(i) ‘/’ & ‘//’\n",
    "(ii) ‘**’ & ‘^’\n",
    "\n",
    "Answer:->\n",
    "    (i) '/ ' and '//':\n",
    "\n",
    "    '/': This is the division operator in Python. It performs regular floating-point division and always returns a float value,\n",
    "    regardless of the data types of the operands.\n",
    "    Example:\n",
    "        result = 10 / 3\n",
    "        print(result)  # Output: 3.3333333333333335\n",
    "        \n",
    "    '//': This is the floor division operator in Python. It performs division and rounds down the result to the nearest \n",
    "    integer, resulting in an integer value.\n",
    "    Example:\n",
    "    result = 10 // 3\n",
    "    print(result)  # Output: 3\n",
    "    \n",
    "    \n",
    "    (ii) '**' and '^':\n",
    "    \n",
    "    '**': This is the exponentiation operator in Python. It raises the left operand to the power of the right operand.\n",
    "    Example:\n",
    "        \n",
    "        result = 2 ** 3\n",
    "        print(result)  # Output: 8\n",
    "        \n",
    "     '^': In Python, the caret ('^') is not the exponentiation operator. Instead, it is the bitwise XOR operator. It performs a\n",
    "     bitwise exclusive OR operation on the binary representation of the operands.\n",
    "    Example:\n",
    "    \n",
    "    result = 5 ^ 3\n",
    "    print(result)  # Output: 6\n",
    "\n",
    "\n",
    "\n"
   ]
  },
  {
   "cell_type": "markdown",
   "id": "bf1c4fae",
   "metadata": {},
   "source": [
    "Q.3. List the logical operators.\n",
    "\n",
    "Answer:->\n",
    "    The logical operators:\n",
    "     i. AND: The logical AND operator returns True if both operands are True, otherwise, it returns False.\n",
    "     \n",
    "         |   A   |   B   | A && B |\n",
    "         |-------|-------|--------|\n",
    "         | false | false | false  |\n",
    "         | false | true  | false  |\n",
    "         | true  | false | false  |\n",
    "         | true  | true  | true   |\n",
    "     \n",
    "    ii. OR: The logical OR operator returns True if at least one of the operands is True, otherwise, it returns False.\n",
    "    \n",
    "        |   A   |   B   | A || B |\n",
    "        |-------|-------|--------|\n",
    "        | false | false | false  |\n",
    "        | false | true  | true   |\n",
    "        | true  | false | true   |\n",
    "        | true  | true  | true   |\n",
    "    \n",
    "    iii. NOT: The logical NOT operator returns the opposite boolean value of the operand. If the operand is True,\n",
    "        it returns False, and if the operand is False, it returns True.\n",
    "        \n",
    "        |   A   |   !A  | \n",
    "        |-------|-------|\n",
    "        | false | true  | \n",
    "        | true  | false | "
   ]
  },
  {
   "cell_type": "markdown",
   "id": "4f7148ae",
   "metadata": {},
   "source": [
    "Q4.Explain right shift operator and left shift operator with examples.\n",
    "\n",
    "Answer:\n",
    "    Right Shift (>>):\n",
    "        The right shift operator moves the bits of a number to the right by the specified number of positions.\n",
    "        The rightmost bits that are shifted out are discarded, and the leftmost bits are filled with the sign bit\n",
    "        (the leftmost bit) to preserve the sign of the original number.\n",
    "\n",
    "        Syntax: number >> n\n",
    "\n",
    "        Where number is the integer value to be shifted, and n is the number of positions to shift the bits to the right."
   ]
  },
  {
   "cell_type": "code",
   "execution_count": 2,
   "id": "b174c641",
   "metadata": {},
   "outputs": [
    {
     "name": "stdout",
     "output_type": "stream",
     "text": [
      "4\n"
     ]
    }
   ],
   "source": [
    "#right shift example\n",
    "x = 16  # Binary: 00010000\n",
    "\n",
    "# Shift x to the right by 2 positions\n",
    "result = x >> 2  # Binary: 00000100, Decimal: 4\n",
    "print(result)\n",
    "\n",
    "#In this example, the binary representation of x is 00010000. After right-shifting x by 2 positions,\n",
    "#the binary representation becomes 00000100, which is equivalent to the decimal value 4."
   ]
  },
  {
   "cell_type": "markdown",
   "id": "0087cf27",
   "metadata": {},
   "source": [
    "Left Shift (<<):\n",
    "        The left shift operator moves the bits of a number to the left by the specified number of positions. The leftmost bits\n",
    "        that are shifted out are discarded, and the rightmost bits are filled with zeros.\n",
    "\n",
    "Syntax: number << n\n",
    "\n",
    "Where number is the integer value to be shifted, and n is the number of positions to shift the bits to the left."
   ]
  },
  {
   "cell_type": "code",
   "execution_count": 3,
   "id": "f3b2c142",
   "metadata": {},
   "outputs": [
    {
     "name": "stdout",
     "output_type": "stream",
     "text": [
      "40\n"
     ]
    }
   ],
   "source": [
    "\n",
    "# Left shift example\n",
    "y = 5  # Binary: 00000101\n",
    "\n",
    "# Shift y to the left by 3 positions\n",
    "result = y << 3  # Binary: 00101000, Decimal: 40\n",
    "print(result)\n",
    "\n",
    "#In this example, the binary representation of y is 00000101. After left-shifting y by 3 positions, \n",
    "#the binary representation becomes 00101000, which is equivalent to the decimal value 40."
   ]
  },
  {
   "cell_type": "markdown",
   "id": "a82f697f",
   "metadata": {},
   "source": [
    "Q5.Create a list containing int type data of length 15. Then write a code to check if 10 is\n",
    "present in the list or not."
   ]
  },
  {
   "cell_type": "code",
   "execution_count": 6,
   "id": "ba7238d0",
   "metadata": {},
   "outputs": [
    {
     "name": "stdout",
     "output_type": "stream",
     "text": [
      "10 is present in the list\n"
     ]
    }
   ],
   "source": [
    "#create a list with 15 elements\n",
    "my_list = [3, 7, 15, 10, 21, 9, 14, 5, 18, 6, 12, 2, 17, 4, 8]\n",
    "\n",
    "#code to check if 10 is present in the list or not.\n",
    "if 10 in my_list:\n",
    "    print(\"10 is present in the list\")\n",
    "else:\n",
    "    print(\"10 is not present in the list\")"
   ]
  },
  {
   "cell_type": "code",
   "execution_count": null,
   "id": "0cfdcb1b",
   "metadata": {},
   "outputs": [],
   "source": []
  }
 ],
 "metadata": {
  "kernelspec": {
   "display_name": "Python 3 (ipykernel)",
   "language": "python",
   "name": "python3"
  },
  "language_info": {
   "codemirror_mode": {
    "name": "ipython",
    "version": 3
   },
   "file_extension": ".py",
   "mimetype": "text/x-python",
   "name": "python",
   "nbconvert_exporter": "python",
   "pygments_lexer": "ipython3",
   "version": "3.9.12"
  }
 },
 "nbformat": 4,
 "nbformat_minor": 5
}
