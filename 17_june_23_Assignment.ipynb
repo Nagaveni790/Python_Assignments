{
 "cells": [
  {
   "cell_type": "markdown",
   "id": "31c46a33",
   "metadata": {},
   "source": [
    "Q1.What is the role of try and exception block?\n",
    "\n",
    "Answer:->\n",
    "        The try and except blocks in Python are used for handling exceptions or errors that may occur during the execution of a \n",
    "        program. Exceptions are unexpected events or errors that can disrupt the normal flow of the program. \n",
    "        \n",
    "        The try and except blocks allow you to gracefully handle these exceptions, preventing the program from crashing and \n",
    "        allowing you to take appropriate actions when an error occurs.\n",
    "        \n",
    "        "
   ]
  },
  {
   "cell_type": "code",
   "execution_count": null,
   "id": "e4c1b0a5",
   "metadata": {},
   "outputs": [],
   "source": [
    "Q2.What is the syntax for a basic try-except block?\n",
    "\n",
    "Answer:->\n",
    "        The basic syntax of the try and except blocks is as follows:\n",
    "        \n",
    "        try:\n",
    "            # Code that may raise an exception\n",
    "            # ...\n",
    "        except SomeException:\n",
    "            # Code to handle the exception\n",
    "            # ...\n"
   ]
  },
  {
   "cell_type": "code",
   "execution_count": 1,
   "id": "631369f4",
   "metadata": {},
   "outputs": [
    {
     "name": "stdout",
     "output_type": "stream",
     "text": [
      "Enter a number: 5\n",
      "Enter another number: 5\n",
      "Result: 1.0\n"
     ]
    }
   ],
   "source": [
    "#Example of try_except block\n",
    "try:\n",
    "    num1 = int(input(\"Enter a number: \"))\n",
    "    num2 = int(input(\"Enter another number: \"))\n",
    "    result = num1 / num2\n",
    "    print(\"Result:\", result)\n",
    "except ValueError:\n",
    "    print(\"Invalid input. Please enter valid integers.\")\n",
    "except ZeroDivisionError:\n",
    "    print(\"Error: Cannot divide by zero.\")\n"
   ]
  },
  {
   "cell_type": "code",
   "execution_count": null,
   "id": "76181e0f",
   "metadata": {},
   "outputs": [],
   "source": [
    "Q3.What happens if an exception occurs inside a try block and there is no matching except block?\n",
    "\n",
    "Answer:->\n",
    "        If an exception occurs inside a try block, and there is no matching except block to handle that specific \n",
    "        exception type, the program will terminate abruptly, and an error message known as a traceback will be displayed.\n",
    "        The traceback provides information about the exception that occurred, along with the line numbers and function calls \n",
    "        leading up to the exception."
   ]
  },
  {
   "cell_type": "code",
   "execution_count": 3,
   "id": "a96a19e7",
   "metadata": {},
   "outputs": [
    {
     "name": "stdout",
     "output_type": "stream",
     "text": [
      "Enter a number: 5\n",
      "Enter another number: 0\n"
     ]
    },
    {
     "ename": "ZeroDivisionError",
     "evalue": "division by zero",
     "output_type": "error",
     "traceback": [
      "\u001b[1;31m---------------------------------------------------------------------------\u001b[0m",
      "\u001b[1;31mZeroDivisionError\u001b[0m                         Traceback (most recent call last)",
      "Input \u001b[1;32mIn [3]\u001b[0m, in \u001b[0;36m<cell line: 3>\u001b[1;34m()\u001b[0m\n\u001b[0;32m      4\u001b[0m     num1 \u001b[38;5;241m=\u001b[39m \u001b[38;5;28mint\u001b[39m(\u001b[38;5;28minput\u001b[39m(\u001b[38;5;124m\"\u001b[39m\u001b[38;5;124mEnter a number: \u001b[39m\u001b[38;5;124m\"\u001b[39m))\n\u001b[0;32m      5\u001b[0m     num2 \u001b[38;5;241m=\u001b[39m \u001b[38;5;28mint\u001b[39m(\u001b[38;5;28minput\u001b[39m(\u001b[38;5;124m\"\u001b[39m\u001b[38;5;124mEnter another number: \u001b[39m\u001b[38;5;124m\"\u001b[39m))\n\u001b[1;32m----> 6\u001b[0m     result \u001b[38;5;241m=\u001b[39m \u001b[43mnum1\u001b[49m\u001b[43m \u001b[49m\u001b[38;5;241;43m/\u001b[39;49m\u001b[43m \u001b[49m\u001b[43mnum2\u001b[49m\n\u001b[0;32m      7\u001b[0m     \u001b[38;5;28mprint\u001b[39m(\u001b[38;5;124m\"\u001b[39m\u001b[38;5;124mResult:\u001b[39m\u001b[38;5;124m\"\u001b[39m, result)\n\u001b[0;32m      8\u001b[0m \u001b[38;5;28;01mexcept\u001b[39;00m \u001b[38;5;167;01mValueError\u001b[39;00m:\n",
      "\u001b[1;31mZeroDivisionError\u001b[0m: division by zero"
     ]
    }
   ],
   "source": [
    "#Here's an example of what a traceback might look like if there is no matching except block:\n",
    "\n",
    "try:\n",
    "    num1 = int(input(\"Enter a number: \"))\n",
    "    num2 = int(input(\"Enter another number: \"))\n",
    "    result = num1 / num2\n",
    "    print(\"Result:\", result)\n",
    "except ValueError:\n",
    "    print(\"Invalid input. Please enter valid integers.\")\n",
    "    \n",
    "    \n",
    "#To avoid abrupt program termination and provide better error handling, it is essential to have appropriate except blocks \n",
    "#to catch and handle specific types of exceptions that might occur within the try block.This allows you to gracefully \n",
    "#handle exceptional scenarios and provide meaningful feedback to the users.\n"
   ]
  },
  {
   "cell_type": "markdown",
   "id": "f6935b2e",
   "metadata": {},
   "source": [
    "Q4.What is the difference between using a bare except block and specifying a specific exception type?\n",
    "\n",
    "Answer:->\n",
    "    Using a bare except block and specifying a specific exception type in a try-except statement are two different ways to \n",
    "    handle exceptions in Python. \n",
    "    Here are the key differences:\n",
    "    \n",
    "    1.Bare except block:\n",
    "        A bare except block catches any type of exception that occurs within the try block. It does not specify a particular\n",
    "        exception type, which means it will handle all exceptions, including standard exceptions provided by Python and user-\n",
    "        defined exceptions. While using a bare except block provides a general catch-all mechanism, it can make it challenging\n",
    "        to identify the specific cause of the exception, leading to less precise error handling.\n",
    "        \n",
    "    Example of bare except:\n",
    "\n",
    "        try:\n",
    "            # Code that may raise an exception\n",
    "            # ...\n",
    "        except:\n",
    "            # Code to handle the exception (applies to any exception)\n",
    "            # ...\n",
    "\n",
    "    2.Specific exception type:\n",
    "            Specifying a specific exception type in the except block allows you to catch and handle only the specified type of \n",
    "            exception. It provides more control over the exception handling process, allowing you to handle different types of \n",
    "            exceptions differently based on their nature. This approach is considered better practice because it allows for \n",
    "            more precise and targeted error handling.\n",
    "\n",
    "    Example of specifying a specific exception type:\n",
    "    \n",
    "       try:\n",
    "            # Code that may raise an exception\n",
    "            # ...\n",
    "       except ValueError:\n",
    "            # Code to handle the ValueError exception\n",
    "            # ...\n",
    "    \n",
    "  --> Advantages of specifying specific exception types:\n",
    "\n",
    "       * More accurate error handling: You can handle different exceptions differently based on their types, providing specific \n",
    "        feedback and actions for each case.\n",
    "       * Easier debugging: Specific exception handling helps in pinpointing the source of errors and makes debugging more \n",
    "        manageable.\n",
    "       * Avoid catching unexpected exceptions: Using a specific exception type prevents unintentional handling of exceptions \n",
    "        that you might not be prepared to handle properly.\n",
    "        "
   ]
  },
  {
   "cell_type": "markdown",
   "id": "60d4f01d",
   "metadata": {},
   "source": [
    "Q5.Can you have nested try-except blocks in Python? If yes, then give an example.\n",
    "\n",
    "Answer:->\n",
    "    Yes, you can have nested try-except blocks in Python. Nesting try-except blocks allows you to handle exceptions in a \n",
    "    hierarchical manner, providing more granular error handling for different parts of your code."
   ]
  },
  {
   "cell_type": "code",
   "execution_count": 8,
   "id": "564fb642",
   "metadata": {},
   "outputs": [
    {
     "name": "stdout",
     "output_type": "stream",
     "text": [
      "Enter a number: 5\n",
      "Enter another number: 4\n",
      "Result: 1.25\n"
     ]
    }
   ],
   "source": [
    "#Example:\n",
    "    \n",
    "def division_operation():\n",
    "    try:\n",
    "        num1 = int(input(\"Enter a number: \"))\n",
    "        num2 = int(input(\"Enter another number: \"))\n",
    "        result = num1 / num2\n",
    "        print(\"Result:\", result)\n",
    "    except ValueError:\n",
    "        print(\"Invalid input. Please enter valid integers.\")\n",
    "    except ZeroDivisionError:\n",
    "        print(\"Error: Cannot divide by zero.\")\n",
    "\n",
    "def main():\n",
    "    try:\n",
    "        division_operation()\n",
    "    except Exception as e:\n",
    "        print(\"An error occurred:\", e)\n",
    "\n",
    "if __name__ == \"__main__\":\n",
    "    main()\n",
    "   "
   ]
  },
  {
   "cell_type": "markdown",
   "id": "ea05d27f",
   "metadata": {},
   "source": [
    "Q6.Can we use multiple exception blocks, if yes then give an example.\n",
    "\n",
    "Asnwer:->\n",
    "\n",
    "    Yes, you can use multiple except blocks in a single try-except statement in Python. Each except block can handle a\n",
    "    different type of exception, allowing you to provide specific error handling for each exception type that may occur."
   ]
  },
  {
   "cell_type": "code",
   "execution_count": 9,
   "id": "da555cd4",
   "metadata": {},
   "outputs": [
    {
     "name": "stdout",
     "output_type": "stream",
     "text": [
      "Enter a number: 5\n",
      "Enter another number: 0\n",
      "Error: Cannot divide by zero.\n"
     ]
    }
   ],
   "source": [
    "#Here's an example of using multiple except blocks:\n",
    "\n",
    "def division_operation():\n",
    "    try:\n",
    "        num1 = int(input(\"Enter a number: \"))\n",
    "        num2 = int(input(\"Enter another number: \"))\n",
    "        result = num1 / num2\n",
    "        print(\"Result:\", result)\n",
    "    except ValueError:\n",
    "        print(\"Invalid input. Please enter valid integers.\")\n",
    "    except ZeroDivisionError:\n",
    "        print(\"Error: Cannot divide by zero.\")\n",
    "    except ArithmeticError:\n",
    "        print(\"Arithmetic error occurred.\")\n",
    "    except Exception as e:\n",
    "        print(\"An unexpected error occurred:\", e)\n",
    "\n",
    "if __name__ == \"__main__\":\n",
    "    division_operation()\n",
    "\n",
    "\n",
    "    \n"
   ]
  },
  {
   "cell_type": "markdown",
   "id": "d4bac885",
   "metadata": {},
   "source": [
    "In this example, we have used multiple except blocks to handle different types of exceptions:\n",
    "\n",
    "*except ValueError: This block will handle exceptions related to invalid input conversion to integers.\n",
    "\n",
    "*except ZeroDivisionError: This block will handle the exception that occurs when dividing by zero.\n",
    "\n",
    "*except ArithmeticError: This block will handle any other arithmetic-related exceptions that may occur \n",
    "    (it includes ZeroDivisionError).\n",
    "\n",
    "*except Exception as e: This block will catch any other unexpected exceptions that are not handled by the previous blocks. \n",
    "    It will display a general error message along with the specific exception message (e)."
   ]
  },
  {
   "cell_type": "markdown",
   "id": "9b53c38d",
   "metadata": {},
   "source": [
    "Q7.Write the reason due to which following errors are raised:\n",
    "a. EOFError\n",
    "b. FloatingPointError\n",
    "c. IndexError\n",
    "d. MemoryError\n",
    "e. OverflowError\n",
    "f. TabError\n",
    "g. ValueError\n",
    "\n",
    "Answer:->\n",
    "     a. EOFError: This error is raised when the input() function reaches the end of the file while trying to read input from\n",
    "         the user or from standard input (stdin). It occurs when the user or the program encounters an unexpected end of input.\n",
    "\n",
    "     b. FloatingPointError: This error is raised when a floating-point operation, such as division by zero or an invalid \n",
    "         mathematical operation, results in an undefined or not-a-number (NaN) value.\n",
    "\n",
    "     c. IndexError: This error is raised when you try to access an index of a sequence (e.g., list, tuple, or string) that is \n",
    "         out of range. It occurs when you use an invalid index to access an element from the sequence.\n",
    "\n",
    "     d. MemoryError: This error is raised when a program runs out of available memory, and there is insufficient memory to \n",
    "         allocate a new object or perform a specific operation.\n",
    "\n",
    "     e. OverflowError: This error is raised when a numerical calculation exceeds the limits of its data type or the platform's\n",
    "         maximum value for numeric types, resulting in an overflow.\n",
    "\n",
    "     f. TabError: This error is raised when the indentation in the code using tabs and spaces is inconsistent, violating \n",
    "         Python's indentation rules.\n",
    "\n",
    "   g.ValueError: This error is raised when an operation or function receives an argument of the correct data type but an     inappropriate value. For example, converting a string to an integer, and the string cannot be interpreted as a valid integer"
   ]
  },
  {
   "cell_type": "code",
   "execution_count": null,
   "id": "24cf6906",
   "metadata": {},
   "outputs": [],
   "source": [
    "Q8.Write code for the following given scenario and add try-exception block to it.\n",
    "a. Program to divide two numbers\n",
    "b. Program to convert a string to an integer\n",
    "c. Program to access an element in a list\n",
    "d. Program to handle a specific exception\n",
    "e. Program to handle any exception"
   ]
  },
  {
   "cell_type": "code",
   "execution_count": 18,
   "id": "5dfec3bd",
   "metadata": {},
   "outputs": [
    {
     "name": "stdout",
     "output_type": "stream",
     "text": [
      "Enter first number25\n",
      "Enter second number5\n",
      "Division of two numbers is: 5.0\n"
     ]
    }
   ],
   "source": [
    "#a. Program to divide two numbers:\n",
    "\n",
    "def divide_numbers():\n",
    "    try:\n",
    "        num1 = int(input(\"Enter first number\"))\n",
    "        num2 = int(input(\"Enter second number\"))\n",
    "        result = num1/num2\n",
    "        print(\"Division of two numbers is:\",result)\n",
    "    except ZeroDivisionError:\n",
    "        print(\"Error:Cannot Divide by Zero\")\n",
    "    except ValueError:\n",
    "        print(\"Error:Invalid value provide number\")\n",
    "    \n",
    "if __name__ == \"__main__\":\n",
    "    \n",
    "    divide_numbers()\n",
    "    "
   ]
  },
  {
   "cell_type": "code",
   "execution_count": 24,
   "id": "1a0cc776",
   "metadata": {},
   "outputs": [
    {
     "name": "stdout",
     "output_type": "stream",
     "text": [
      "Enter a number: 5\n",
      "<class 'str'>\n",
      "Converted integer: 5 <class 'int'>\n"
     ]
    }
   ],
   "source": [
    "#b.Program to convert a string to an integer\n",
    "\n",
    "def string_to_integer():\n",
    "    try:\n",
    "        string_num = input(\"Enter a number: \")\n",
    "        integer_num = int(string_num)\n",
    "        print(type(string_num))\n",
    "        print(\"Converted integer:\", integer_num, type(integer_num))\n",
    "    except ValueError:\n",
    "        print(\"Error: Invalid input. Please enter a valid integer.\")\n",
    "\n",
    "if __name__ == \"__main__\":\n",
    "    string_to_integer()"
   ]
  },
  {
   "cell_type": "code",
   "execution_count": 29,
   "id": "4e71194a",
   "metadata": {},
   "outputs": [
    {
     "name": "stdout",
     "output_type": "stream",
     "text": [
      "Enter index value of the list to access:1\n",
      "Value at 1 is 20\n"
     ]
    }
   ],
   "source": [
    "#c.Program to access an element in a list\n",
    "def access_my_list():\n",
    "    my_list = [10,20,30,40,50]\n",
    "    try:\n",
    "        index = int(input(\"Enter index value of the list to access:\"))\n",
    "        value = my_list[index]\n",
    "        print(f\"Value at {index} is {value}\")\n",
    "    except IndexError:\n",
    "        print(\"Error: Enter a index within range\")\n",
    "    except ValueError:\n",
    "        print(\"Error: Enter integer value to access list\")\n",
    "\n",
    "if __name__ == \"__main__\":\n",
    "    access_my_list()\n",
    "        \n",
    "        \n",
    "    \n"
   ]
  },
  {
   "cell_type": "code",
   "execution_count": 30,
   "id": "2b51b996",
   "metadata": {},
   "outputs": [
    {
     "name": "stdout",
     "output_type": "stream",
     "text": [
      "Enter the first number: 5\n",
      "Enter the second number: 0\n",
      "Error: Cannot divide by zero.\n"
     ]
    }
   ],
   "source": [
    "#d.Program to handle a specific exception\n",
    "def specific_exception_handling():\n",
    "    try:\n",
    "        num1 = int(input(\"Enter the first number: \"))\n",
    "        num2 = int(input(\"Enter the second number: \"))\n",
    "        result = num1 / num2\n",
    "        print(\"Result:\", result)\n",
    "    except ZeroDivisionError:\n",
    "        print(\"Error: Cannot divide by zero.\")\n",
    "    except ValueError:\n",
    "        print(\"Error: Please enter valid integers.\")\n",
    "\n",
    "if __name__ == \"__main__\":\n",
    "    specific_exception_handling()"
   ]
  },
  {
   "cell_type": "code",
   "execution_count": 32,
   "id": "b603a20b",
   "metadata": {},
   "outputs": [
    {
     "name": "stdout",
     "output_type": "stream",
     "text": [
      "Enter the first number: 58\n",
      "Enter the second number: 0\n",
      "An unexpected error occurred: division by zero\n"
     ]
    }
   ],
   "source": [
    "#e. Program to handle any exception:\n",
    "def handle_any_exception():\n",
    "    try:\n",
    "        num1 = int(input(\"Enter the first number: \"))\n",
    "        num2 = int(input(\"Enter the second number: \"))\n",
    "        result = num1 / num2\n",
    "        print(\"Result:\", result)\n",
    "    except Exception as e:\n",
    "        print(\"An unexpected error occurred:\", e)\n",
    "\n",
    "if __name__ == \"__main__\":\n",
    "    handle_any_exception()\n"
   ]
  },
  {
   "cell_type": "code",
   "execution_count": null,
   "id": "61f950ed",
   "metadata": {},
   "outputs": [],
   "source": []
  }
 ],
 "metadata": {
  "kernelspec": {
   "display_name": "Python 3 (ipykernel)",
   "language": "python",
   "name": "python3"
  },
  "language_info": {
   "codemirror_mode": {
    "name": "ipython",
    "version": 3
   },
   "file_extension": ".py",
   "mimetype": "text/x-python",
   "name": "python",
   "nbconvert_exporter": "python",
   "pygments_lexer": "ipython3",
   "version": "3.9.12"
  }
 },
 "nbformat": 4,
 "nbformat_minor": 5
}
