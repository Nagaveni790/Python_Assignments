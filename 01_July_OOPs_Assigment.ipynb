{
 "cells": [
  {
   "cell_type": "markdown",
   "id": "f3c81b8f",
   "metadata": {},
   "source": [
    "Q1.What is the primary goal of Object-Oriented Programming (OOP)?\n",
    "\n",
    "Answer:->\n",
    "    The primary goal of Object-Oriented Programming (OOP) is to model real-world entities and their interactions in a software system using the concepts of objects and classes. OOP provides a way to structure and organize code by encapsulating data (attributes) and behaviors (methods) together into self-contained units called objects. These objects can interact with each other to simulate real-world scenarios and relationships.\n",
    "\n",
    "**The key principles and goals of OOP include:\n",
    "\n",
    "1.Modularity: OOP encourages breaking down a complex problem into smaller, manageable modules (classes), each responsible for a specific aspect of the problem domain. This modularity makes the codebase more organized, maintainable, and reusable.\n",
    "\n",
    "2.Encapsulation: Encapsulation is the practice of hiding internal implementation details of an object and exposing only the necessary interface. This helps to control access to data and prevents external code from directly manipulating an object's internal state.\n",
    "\n",
    "3.Abstraction: Abstraction allows you to represent complex real-world entities using simplified models. Classes provide an abstraction of real-world objects, defining their essential characteristics and behaviors while ignoring unnecessary details.\n",
    "\n",
    "4.Inheritance: Inheritance allows you to create new classes based on existing classes, inheriting their attributes and behaviors. This promotes code reuse and enables the creation of specialized classes that enhance or modify the behavior of existing ones.\n",
    "\n",
    "5.Polymorphism: Polymorphism enables different classes to be treated as instances of a common superclass. This allows you to write code that can work with objects of different types in a unified way, making the code more flexible and adaptable.\n",
    "\n",
    "6.Encapsulation: Encapsulation is the practice of bundling data (attributes) and methods (functions) that operate on that data into a single unit, i.e., an object. This promotes data integrity by controlling access to the data and ensuring that it's manipulated only through defined methods.\n",
    "\n",
    "7.Code Reusability: OOP promotes the reuse of code through inheritance and composition. This reduces the need to rewrite code from scratch, leading to more efficient and maintainable development.\n",
    "\n",
    "8.Ease of Maintenance: By encapsulating data and behavior, OOP makes it easier to make changes to a specific part of the system without affecting other parts. This improves the maintainability and scalability of the software.\n",
    "\n",
    "   \n",
    "   Overall, the primary goal of OOP is to create a programming paradigm that closely resembles the real world, allowing developers to design, model, and implement software systems in a more intuitive and organized manner.\n",
    "              "
   ]
  },
  {
   "cell_type": "markdown",
   "id": "a095029b",
   "metadata": {},
   "source": [
    "Q2.What is an object in Python?\n",
    "\n",
    "Answer:-->\n",
    "    \n",
    "   An object is a fundamental concept in Object-Oriented Programming (OOP). An object is an instance of a class, and it encapsulates both data (attributes) and the functions (methods) that operate on that data.  \n",
    "   \n",
    "   In other words, an object is a concrete instantiation of a class. It bundles together data (attributes) and behavior (methods) into a single entity. Each object of a class can have its own unique values for the attributes while sharing the same set of methods defined in the class."
   ]
  },
  {
   "cell_type": "code",
   "execution_count": 3,
   "id": "f30b5cb8",
   "metadata": {},
   "outputs": [
    {
     "name": "stdout",
     "output_type": "stream",
     "text": [
      "Charlie\n",
      "4\n",
      "Charlie is barking!!\n",
      "Brew is barking!!\n"
     ]
    }
   ],
   "source": [
    "#Example:\n",
    "class Dog:\n",
    "    def __init__(self,name,age):\n",
    "        self.name = name\n",
    "        self.age = age\n",
    "    def bark(self):\n",
    "        print(f\"{self.name} is barking!!\")\n",
    "        \n",
    "#Creating objects of class Dog\n",
    "dog1 = Dog(\"Charlie\",3)\n",
    "dog2 = Dog(\"Brew\",4)\n",
    "\n",
    "print(dog1.name)\n",
    "print(dog2.age)\n",
    "\n",
    "dog1.bark()\n",
    "dog2.bark()"
   ]
  },
  {
   "cell_type": "markdown",
   "id": "b1a8ab00",
   "metadata": {},
   "source": [
    "In this example, the Dog class is defined with attributes name and age, and a method bark(). The __init__() method is a special method (constructor) that initializes the attributes when an object is created. Two objects, dog1 and dog2, are created using the Dog class. Each object has its own distinct name and age values, and they share the bark() method.\n",
    "\n",
    "Objects are essential to object-oriented programming as they allow you to model real-world entities and their interactions in a software system. You can create multiple objects of the same class, each with its own state and behavior, making your code more modular and organized."
   ]
  },
  {
   "cell_type": "markdown",
   "id": "79cb4397",
   "metadata": {},
   "source": [
    "Q3.What is a class in Python?\n",
    "\n",
    "Answer:-->\n",
    "    A class is a blueprint or template that defines the structure and behavior of objects. A class encapsulates data \n",
    "    (attributes) and the functions (methods) that operate on that data. A class serves as a blueprint for creating multiple instances (objects) that share the same attributes and methods.\n",
    "\n",
    "   In other words, a class defines the attributes (data) that an object will have, as well as the methods (functions) that can operate on those attributes. It encapsulates related data and behavior into a single entity.\n",
    "  \n",
    "  Classes are a foundational concept in object-oriented programming (OOP). They allow you to create reusable and organized code by defining a blueprint for creating objects with consistent attributes and behaviors."
   ]
  },
  {
   "cell_type": "code",
   "execution_count": 5,
   "id": "5df349c3",
   "metadata": {},
   "outputs": [
    {
     "name": "stdout",
     "output_type": "stream",
     "text": [
      "Veena\n",
      "Hello, my name is Nagaveni and I am 25 years old!\n"
     ]
    }
   ],
   "source": [
    "#Example:\n",
    "class Person:\n",
    "    def __init__(self, name, age):\n",
    "        self.name = name\n",
    "        self.age = age\n",
    "\n",
    "    def greet(self):\n",
    "        print(f\"Hello, my name is {self.name} and I am {self.age} years old!\")\n",
    "\n",
    "# Creating objects from the class\n",
    "person1 = Person(\"Veena\", 35)\n",
    "person2 = Person(\"Nagaveni\", 25)\n",
    "\n",
    "# Accessing attributes and methods\n",
    "print(person1.name)  \n",
    "person2.greet()     \n"
   ]
  },
  {
   "cell_type": "markdown",
   "id": "2549828c",
   "metadata": {},
   "source": [
    "Person class with attributes name and age, as well as a method greet() to introduce the person. You then create two objects (person1 and person2) from the Person class and access their attributes and methods."
   ]
  },
  {
   "cell_type": "markdown",
   "id": "b806cc29",
   "metadata": {},
   "source": [
    "\n",
    "Q4.What are attributes and methods in a class?\n",
    "\n",
    "Answer:-->\n",
    "    \n",
    "In a class, attributes and methods are fundamental components that define the structure and behavior of objects created from that class. They are the building blocks that encapsulate data and operations within a single unit, promoting the principles of Object-Oriented Programming (OOP).\n",
    "\n",
    "\n",
    "Attributes:\n",
    "Attributes are variables that store data associated with an object. They represent the characteristics or properties that the objects possess. \n",
    "\n",
    "Attributes can be classified into two main types:\n",
    "1.Instance Attributes\n",
    "2.Class Attributes\n",
    "\n"
   ]
  },
  {
   "cell_type": "code",
   "execution_count": 6,
   "id": "eb6c23fc",
   "metadata": {},
   "outputs": [
    {
     "name": "stdout",
     "output_type": "stream",
     "text": [
      "5\n",
      "7\n",
      "3.14159\n",
      "3.14159\n"
     ]
    }
   ],
   "source": [
    "#Example:Attributes\n",
    "class Circle:\n",
    "    pi = 3.14159  # Class attribute (shared by all instances)\n",
    "\n",
    "    def __init__(self, radius):\n",
    "        self.radius = radius  # Instance attribute (specific to each object)\n",
    "\n",
    "circle1 = Circle(5)\n",
    "circle2 = Circle(7)\n",
    "\n",
    "print(circle1.radius)  # Output: 5\n",
    "print(circle2.radius)  # Output: 7\n",
    "print(circle1.pi)      # Output: 3.14159\n",
    "print(circle2.pi)      # Output: 3.14159\n"
   ]
  },
  {
   "cell_type": "markdown",
   "id": "820ed613",
   "metadata": {},
   "source": [
    "Methods:\n",
    "Methods are functions defined within a class that specify the behaviors or operations that objects created from the class can perform.Methods can access and manipulate the object's attributes and interact with other objects.\n",
    "\n",
    "Methods can be classified into two main types:\n",
    "\n",
    "1.Instance Methods\n",
    "2.Class Methods\n"
   ]
  },
  {
   "cell_type": "code",
   "execution_count": 7,
   "id": "8cf88781",
   "metadata": {},
   "outputs": [
    {
     "name": "stdout",
     "output_type": "stream",
     "text": [
      "20\n",
      "9\n"
     ]
    }
   ],
   "source": [
    "#Example:\n",
    "class Rectangle:\n",
    "    def __init__(self, width, height):\n",
    "        self.width = width\n",
    "        self.height = height\n",
    "\n",
    "    def area(self):\n",
    "        return self.width * self.height  # Instance method\n",
    "\n",
    "    @classmethod\n",
    "    def create_square(cls, side_length):\n",
    "        return cls(side_length, side_length)  # Class method\n",
    "\n",
    "rectangle = Rectangle(4, 5)\n",
    "print(rectangle.area())          # Output: 20 (using instance method)\n",
    "\n",
    "square = Rectangle.create_square(3)\n",
    "print(square.area())             # Output: 9 (using class method)\n"
   ]
  },
  {
   "cell_type": "markdown",
   "id": "d229b904",
   "metadata": {},
   "source": [
    "\n",
    "Q5.What is the difference between class variables and instance variables in Python?\n",
    "\n",
    "Answer:-->\n",
    "    class variables and instance variables are two types of attributes that can be defined within a class.\n",
    "    \n",
    "  **Differences:\n",
    "   \n",
    "  Class variables are shared among all instances of a class. They are defined within the class but outside of any instance \n",
    "  methods. Whereas, Instance variables are unique to each instance of a class. They are defined within the instance methods, \n",
    "  usually within the __init__() method.\n",
    "  \n",
    "  \n",
    "  They are the same for every instance of the class and are shared across all instances.Whereas,They store data specific to \n",
    "  each instance and can have different values for different instances.\n",
    "  \n",
    "  Class variables are typically used to store attributes or values that are common to all instances of the class.Whereas,\n",
    "  Instance variables are used to hold attributes that vary between instances.\n",
    "  \n",
    "  \n",
    "  They are accessed using the class name.Whereas,They are accessed using the self keyword within instance methods.\n",
    "  \n",
    "  Class variables are defined using the classname.variable_name syntax within the class.Whereas,Instance variables are defined\n",
    "  using the self.variable_name syntax within instance methods.\n",
    "  \n",
    "  \n",
    "  Changes made to a class variable affect all instances of the class.Whereas,Changes made to an instance variable affect only \n",
    "  the specific instance they belong to."
   ]
  },
  {
   "cell_type": "code",
   "execution_count": 1,
   "id": "74d89377",
   "metadata": {},
   "outputs": [
    {
     "name": "stdout",
     "output_type": "stream",
     "text": [
      "0\n",
      "0\n",
      "1\n",
      "1\n",
      "11\n",
      "20\n",
      "11\n",
      "21\n"
     ]
    }
   ],
   "source": [
    "#Example:\n",
    "class MyClass:\n",
    "    class_variable = 0  # This is a class variable shared among all instances\n",
    "    \n",
    "    def __init__(self, instance_variable):\n",
    "        self.instance_variable = instance_variable  # This is an instance variable\n",
    "        \n",
    "    def increment(self):\n",
    "        MyClass.class_variable += 1  # Accessing class variable using the class name\n",
    "        self.instance_variable += 1   # Accessing instance variable using 'self'\n",
    "\n",
    "# Creating instances of the class\n",
    "obj1 = MyClass(10)\n",
    "obj2 = MyClass(20)\n",
    "\n",
    "print(obj1.class_variable)  # Output: 0\n",
    "print(obj2.class_variable)  # Output: 0\n",
    "\n",
    "obj1.increment()\n",
    "print(obj1.class_variable)  # Output: 1\n",
    "print(obj2.class_variable)  # Output: 1\n",
    "\n",
    "print(obj1.instance_variable)  # Output: 11\n",
    "print(obj2.instance_variable)  # Output: 20\n",
    "\n",
    "obj2.increment()\n",
    "print(obj1.instance_variable)  # Output: 11\n",
    "print(obj2.instance_variable)  # Output: 21\n"
   ]
  },
  {
   "cell_type": "markdown",
   "id": "9eafe23c",
   "metadata": {},
   "source": [
    "In this example, class_variable is a class variable shared between instances, while instance_variable is an instance variable unique to each instance. When the increment() method is called, the class variable changes for all instances, while the instance variable only changes for the specific instance it belongs to."
   ]
  },
  {
   "cell_type": "raw",
   "id": "9b139a8b",
   "metadata": {},
   "source": [
    "Q6.What is the purpose of the self parameter in Python class methods?\n",
    "\n",
    "Answer:-->\n",
    "    In Python, the self parameter in class methods is used to refer to the instance of the class itself. It is a convention, and the name \"self\" is not a keyword; you could technically use any name, but \"self\" is widely accepted and understood.\n",
    "\n",
    "When you define a class method, the first parameter (typically named self) represents the instance of the class that the method is being called on. It allows you to access and manipulate the instance's attributes and methods. Without the self parameter, you wouldn't have a way to distinguish between attributes and methods of the current instance versus attributes and methods of the class itself."
   ]
  },
  {
   "cell_type": "code",
   "execution_count": 6,
   "id": "c8abf215",
   "metadata": {},
   "outputs": [
    {
     "name": "stdout",
     "output_type": "stream",
     "text": [
      "Hello, my name is Nagaveni and I am 25 years old.\n"
     ]
    }
   ],
   "source": [
    "#Example:\n",
    "class Person:\n",
    "    def __init__(self, name, age):\n",
    "        self.name = name\n",
    "        self.age = age\n",
    "    \n",
    "    def introduce(self):\n",
    "        print(f\"Hello, my name is {self.name} and I am {self.age} years old.\")\n",
    "\n",
    "# Creating an instance of the Person class\n",
    "person1 = Person(\"Nagaveni\", 25)\n",
    "\n",
    "# Calling the instance method using the instance\n",
    "person1.introduce()\n",
    "\n",
    "    \n"
   ]
  },
  {
   "cell_type": "markdown",
   "id": "04d3427f",
   "metadata": {},
   "source": [
    "In this example, the introduce() method takes the self parameter, which refers to the instance of the class (person1 in this case). Inside the method, you can use self.name and self.age to access the instance's attributes.\n",
    "\n"
   ]
  },
  {
   "cell_type": "markdown",
   "id": "858d4e4f",
   "metadata": {},
   "source": [
    "Q7.For a library management system, you have to design the \"Book\" class with OOP principles in mind. The “Book” class will have following attributes:\n",
    "a. title: Represents the title of the book.\n",
    "b. author: Represents the author(s) of the book.\n",
    "c. isbn: Represents the ISBN (International Standard Book Number) of the book.\n",
    "d. publication_year: Represents the year of publication of the book.\n",
    "e. available_copies: Represents the number of copies available for checkout.\n",
    "The class will also include the following methods:\n",
    "a. check_out(self): Decrements the available copies by one if there are copies\n",
    "available for checkout.\n",
    "b. return_book(self): Increments the available copies by one when a book is\n",
    "returned.\n",
    "c. display_book_info(self): Displays the information about the book, including its\n",
    "attributes and the number of available copies."
   ]
  },
  {
   "cell_type": "code",
   "execution_count": 8,
   "id": "def77182",
   "metadata": {},
   "outputs": [
    {
     "name": "stdout",
     "output_type": "stream",
     "text": [
      "Book 'The Great Gatsby' checked out. 4 copies available.\n",
      "Book 'The Great Gatsby' returned. 5 copies available.\n",
      "Title: The Great Gatsby\n",
      "Author(s): F. Scott Fitzgerald\n",
      "ISBN: 978-0743273565\n",
      "Publication Year: 1925\n",
      "Available Copies: 5\n"
     ]
    }
   ],
   "source": [
    "#Program\n",
    "class Book:\n",
    "    def __init__(self, title, author, isbn, publication_year, available_copies):\n",
    "        self.title = title\n",
    "        self.author = author\n",
    "        self.isbn = isbn\n",
    "        self.publication_year = publication_year\n",
    "        self.available_copies = available_copies\n",
    "    \n",
    "    def check_out(self):\n",
    "        if self.available_copies > 0:\n",
    "            self.available_copies -= 1\n",
    "            print(f\"Book '{self.title}' checked out. {self.available_copies} copies available.\")\n",
    "        else:\n",
    "            print(\"No copies of this book are currently available for checkout.\")\n",
    "    \n",
    "    def return_book(self):\n",
    "        self.available_copies += 1\n",
    "        print(f\"Book '{self.title}' returned. {self.available_copies} copies available.\")\n",
    "    \n",
    "    def display_book_info(self):\n",
    "        print(f\"Title: {self.title}\")\n",
    "        print(f\"Author(s): {self.author}\")\n",
    "        print(f\"ISBN: {self.isbn}\")\n",
    "        print(f\"Publication Year: {self.publication_year}\")\n",
    "        print(f\"Available Copies: {self.available_copies}\")\n",
    "\n",
    "# Creating an instance of the Book class\n",
    "book1 = Book(\"The Great Gatsby\", \"F. Scott Fitzgerald\", \"978-0743273565\", 1925, 5)\n",
    "\n",
    "# Using methods to interact with the book\n",
    "book1.check_out()\n",
    "book1.return_book()\n",
    "book1.display_book_info()\n"
   ]
  },
  {
   "cell_type": "markdown",
   "id": "e5c49f5e",
   "metadata": {},
   "source": [
    "Q8.For a ticket booking system, you have to design the \"Ticket\" class with OOP principles in mind. The “Ticket” class should have the following attributes:\n",
    "a. ticket_id: Represents the unique identifier for the ticket.\n",
    "b. event_name: Represents the name of the event.\n",
    "c. event_date: Represents the date of the event.\n",
    "d. venue: Represents the venue of the event.\n",
    "e. seat_number: Represents the seat number associated with the ticket.\n",
    "f. price: Represents the price of the ticket.\n",
    "g. is_reserved: Represents the reservation status of the ticket.\n",
    "The class also includes the following methods:\n",
    "a. reserve_ticket(self): Marks the ticket as reserved if it is not already reserved.\n",
    "b. cancel_reservation(self): Cancels the reservation of the ticket if it is already\n",
    "reserved.\n",
    "c. display_ticket_info(self): Displays the information about the ticket, including its\n",
    "attributes and reservation status."
   ]
  },
  {
   "cell_type": "code",
   "execution_count": 9,
   "id": "7de57ee8",
   "metadata": {},
   "outputs": [
    {
     "name": "stdout",
     "output_type": "stream",
     "text": [
      "Ticket 1 reserved.\n",
      "Ticket ID: 1\n",
      "Event Name: Concert\n",
      "Event Date: 2023-08-30\n",
      "Venue: Music Hall\n",
      "Seat Number: A12\n",
      "Price: $50.00\n",
      "Reservation Status: Reserved\n",
      "Reservation for ticket 1 canceled.\n",
      "Ticket ID: 1\n",
      "Event Name: Concert\n",
      "Event Date: 2023-08-30\n",
      "Venue: Music Hall\n",
      "Seat Number: A12\n",
      "Price: $50.00\n",
      "Reservation Status: Not Reserved\n"
     ]
    }
   ],
   "source": [
    "#Program\n",
    "class Ticket:\n",
    "    def __init__(self, ticket_id, event_name, event_date, venue, seat_number, price, is_reserved=False):\n",
    "        self.ticket_id = ticket_id\n",
    "        self.event_name = event_name\n",
    "        self.event_date = event_date\n",
    "        self.venue = venue\n",
    "        self.seat_number = seat_number\n",
    "        self.price = price\n",
    "        self.is_reserved = is_reserved\n",
    "    \n",
    "    def reserve_ticket(self):\n",
    "        if not self.is_reserved:\n",
    "            self.is_reserved = True\n",
    "            print(f\"Ticket {self.ticket_id} reserved.\")\n",
    "        else:\n",
    "            print(f\"Ticket {self.ticket_id} is already reserved.\")\n",
    "    \n",
    "    def cancel_reservation(self):\n",
    "        if self.is_reserved:\n",
    "            self.is_reserved = False\n",
    "            print(f\"Reservation for ticket {self.ticket_id} canceled.\")\n",
    "        else:\n",
    "            print(f\"Ticket {self.ticket_id} is not currently reserved.\")\n",
    "    \n",
    "    def display_ticket_info(self):\n",
    "        print(f\"Ticket ID: {self.ticket_id}\")\n",
    "        print(f\"Event Name: {self.event_name}\")\n",
    "        print(f\"Event Date: {self.event_date}\")\n",
    "        print(f\"Venue: {self.venue}\")\n",
    "        print(f\"Seat Number: {self.seat_number}\")\n",
    "        print(f\"Price: ${self.price:.2f}\")\n",
    "        print(f\"Reservation Status: {'Reserved' if self.is_reserved else 'Not Reserved'}\")\n",
    "\n",
    "# Creating an instance of the Ticket class\n",
    "ticket1 = Ticket(1, \"Concert\", \"2023-08-30\", \"Music Hall\", \"A12\", 50.0)\n",
    "\n",
    "# Using methods to interact with the ticket\n",
    "ticket1.reserve_ticket()\n",
    "ticket1.display_ticket_info()\n",
    "ticket1.cancel_reservation()\n",
    "ticket1.display_ticket_info()\n"
   ]
  },
  {
   "cell_type": "markdown",
   "id": "7088197d",
   "metadata": {},
   "source": [
    "Q9.You are creating a shopping cart for an e-commerce website. Using OOP to model the \"ShoppingCart\" functionality the class should contain following attributes and\n",
    "methods:\n",
    "a. items: Represents the list of items in the shopping cart.\n",
    "The class also includes the following methods:\n",
    "\n",
    "a. add_item(self, item): Adds an item to the shopping cart by appending it to the\n",
    "list of items.\n",
    "b. remove_item(self, item): Removes an item from the shopping cart if it exists in\n",
    "the list.\n",
    "c. view_cart(self): Displays the items currently present in the shopping cart.\n",
    "d. clear_cart(self): Clears all items from the shopping cart by reassigning an\n",
    "empty list to the items attribute."
   ]
  },
  {
   "cell_type": "code",
   "execution_count": 10,
   "id": "c4254034",
   "metadata": {},
   "outputs": [
    {
     "name": "stdout",
     "output_type": "stream",
     "text": [
      "Product A added to the shopping cart.\n",
      "Product B added to the shopping cart.\n",
      "Product C added to the shopping cart.\n",
      "Items in the shopping cart:\n",
      "Product A\n",
      "Product B\n",
      "Product C\n",
      "Product B removed from the shopping cart.\n",
      "Product D is not in the shopping cart.\n",
      "Items in the shopping cart:\n",
      "Product A\n",
      "Product C\n",
      "Shopping cart cleared.\n",
      "The shopping cart is empty.\n"
     ]
    }
   ],
   "source": [
    "class ShoppingCart:\n",
    "    def __init__(self):\n",
    "        self.items = []  # Initialize an empty list to store items\n",
    "    \n",
    "    def add_item(self, item):\n",
    "        self.items.append(item)\n",
    "        print(f\"{item} added to the shopping cart.\")\n",
    "    \n",
    "    def remove_item(self, item):\n",
    "        if item in self.items:\n",
    "            self.items.remove(item)\n",
    "            print(f\"{item} removed from the shopping cart.\")\n",
    "        else:\n",
    "            print(f\"{item} is not in the shopping cart.\")\n",
    "    \n",
    "    def view_cart(self):\n",
    "        if not self.items:\n",
    "            print(\"The shopping cart is empty.\")\n",
    "        else:\n",
    "            print(\"Items in the shopping cart:\")\n",
    "            for item in self.items:\n",
    "                print(item)\n",
    "    \n",
    "    def clear_cart(self):\n",
    "        self.items = []\n",
    "        print(\"Shopping cart cleared.\")\n",
    "\n",
    "# Creating an instance of the ShoppingCart class\n",
    "cart = ShoppingCart()\n",
    "\n",
    "# Using methods to interact with the shopping cart\n",
    "cart.add_item(\"Product A\")\n",
    "cart.add_item(\"Product B\")\n",
    "cart.add_item(\"Product C\")\n",
    "\n",
    "cart.view_cart()\n",
    "\n",
    "cart.remove_item(\"Product B\")\n",
    "cart.remove_item(\"Product D\")\n",
    "\n",
    "cart.view_cart()\n",
    "\n",
    "cart.clear_cart()\n",
    "cart.view_cart()\n"
   ]
  },
  {
   "cell_type": "markdown",
   "id": "23fdab67",
   "metadata": {},
   "source": [
    "Q10.Imagine a school management system. You have to design the \"Student\" class using OOP concepts.The “Student” class has the following attributes:\n",
    "a. name: Represents the name of the student.\n",
    "b. age: Represents the age of the student.\n",
    "c. grade: Represents the grade or class of the student.\n",
    "d. student_id: Represents the unique identifier for the student.\n",
    "e. attendance: Represents the attendance record of the student.\n",
    "The class should also include the following methods:\n",
    "a. update_attendance(self, date, status): Updates the attendance record of the\n",
    "student for a given date with the provided status (e.g., present or absent).\n",
    "b. get_attendance(self): Returns the attendance record of the student.\n",
    "c. get_average_attendance(self): Calculates and returns the average\n",
    "attendance percentage of the student based on their attendance record."
   ]
  },
  {
   "cell_type": "code",
   "execution_count": 11,
   "id": "b69c0da3",
   "metadata": {},
   "outputs": [
    {
     "name": "stdout",
     "output_type": "stream",
     "text": [
      "Attendance updated for Shreyas on 2023-08-23: present\n",
      "Attendance updated for Shreyas on 2023-08-24: absent\n",
      "Attendance updated for Shreyas on 2023-08-25: present\n",
      "Attendance Record: {'2023-08-23': 'present', '2023-08-24': 'absent', '2023-08-25': 'present'}\n",
      "Average Attendance: 66.67%\n"
     ]
    }
   ],
   "source": [
    "class Student:\n",
    "    def __init__(self, name, age, grade, student_id):\n",
    "        self.name = name\n",
    "        self.age = age\n",
    "        self.grade = grade\n",
    "        self.student_id = student_id\n",
    "        self.attendance = {}  # Initialize an empty dictionary for attendance\n",
    "    \n",
    "    def update_attendance(self, date, status):\n",
    "        self.attendance[date] = status\n",
    "        print(f\"Attendance updated for {self.name} on {date}: {status}\")\n",
    "    \n",
    "    def get_attendance(self):\n",
    "        return self.attendance\n",
    "    \n",
    "    def get_average_attendance(self):\n",
    "        if not self.attendance:\n",
    "            return 0.0  # Return 0 if there's no attendance data\n",
    "        \n",
    "        total_days = len(self.attendance)\n",
    "        present_days = sum(1 for status in self.attendance.values() if status == \"present\")\n",
    "        average_attendance = (present_days / total_days) * 100\n",
    "        return average_attendance\n",
    "\n",
    "# Creating an instance of the Student class\n",
    "student1 = Student(\"Shreyas\", 16, \"6th\", \"12345\")\n",
    "\n",
    "# Using methods to interact with the student\n",
    "student1.update_attendance(\"2023-08-23\", \"present\")\n",
    "student1.update_attendance(\"2023-08-24\", \"absent\")\n",
    "student1.update_attendance(\"2023-08-25\", \"present\")\n",
    "\n",
    "attendance_record = student1.get_attendance()\n",
    "print(\"Attendance Record:\", attendance_record)\n",
    "\n",
    "average_attendance = student1.get_average_attendance()\n",
    "print(f\"Average Attendance: {average_attendance:.2f}%\")\n"
   ]
  },
  {
   "cell_type": "code",
   "execution_count": null,
   "id": "7eff2099",
   "metadata": {},
   "outputs": [],
   "source": []
  }
 ],
 "metadata": {
  "kernelspec": {
   "display_name": "Python 3 (ipykernel)",
   "language": "python",
   "name": "python3"
  },
  "language_info": {
   "codemirror_mode": {
    "name": "ipython",
    "version": 3
   },
   "file_extension": ".py",
   "mimetype": "text/x-python",
   "name": "python",
   "nbconvert_exporter": "python",
   "pygments_lexer": "ipython3",
   "version": "3.9.12"
  }
 },
 "nbformat": 4,
 "nbformat_minor": 5
}
